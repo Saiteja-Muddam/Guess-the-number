{
 "cells": [
  {
   "cell_type": "code",
   "execution_count": 1,
   "id": "f611946b",
   "metadata": {},
   "outputs": [
    {
     "name": "stdout",
     "output_type": "stream",
     "text": [
      "Enter Lower bound:- 1\n",
      "Enter Upper bound:- 10\n",
      "\n",
      "\tYou've only  4  chances to guess the integer!\n",
      "\n",
      "Guess a number:- 3\n",
      "You guessed too small!\n",
      "Guess a number:- 5\n",
      "You guessed too small!\n",
      "Guess a number:- 7\n",
      "You guessed too small!\n",
      "Guess a number:- 9\n",
      "You Guessed too high!\n",
      "\n",
      "The number is 8\n",
      "\tBetter Luck Next time!\n"
     ]
    }
   ],
   "source": [
    "import random\n",
    "import math\n",
    "# Taking Inputs\n",
    "lower = int(input(\"Enter Lower bound:- \"))\n",
    "\n",
    "upper = int(input(\"Enter Upper bound:- \"))\n",
    "\n",
    "x = random.randint(lower, upper)\n",
    "total_chances = math.ceil(math.log(upper - lower + 1, 2))\n",
    "print(\"\\n\\tYou've only \", total_chances, \" chances to guess the integer!\\n\")\n",
    "\n",
    "count = 0\n",
    "flag = False\n",
    "\n",
    "# for calculation of minimum number of\n",
    "# guesses depends upon range\n",
    "while count < total_chances:\n",
    "    count += 1\n",
    "\n",
    "    # taking guessing number as input\n",
    "    guess = int(input(\"Guess a number:- \"))\n",
    "\n",
    "    # Condition testing\n",
    "    if x == guess:\n",
    "        print(\"Congratulations you did it in \",\n",
    "              count, \" try\")\n",
    "        # Once guessed, loop will break\n",
    "        flag = True\n",
    "        break\n",
    "    elif x > guess:\n",
    "        print(\"You guessed too small!\")\n",
    "    elif x < guess:\n",
    "        print(\"You Guessed too high!\")\n",
    "\n",
    "# If Guessing is more than required guesses,\n",
    "# shows this output.\n",
    "if not flag:\n",
    "    print(\"\\nThe number is %d\" % x)\n",
    "    print(\"\\tBetter Luck Next time!\")\n",
    "\n",
    "\n"
   ]
  },
  {
   "cell_type": "code",
   "execution_count": null,
   "id": "603e4bbe",
   "metadata": {},
   "outputs": [],
   "source": []
  }
 ],
 "metadata": {
  "kernelspec": {
   "display_name": "Python 3 (ipykernel)",
   "language": "python",
   "name": "python3"
  },
  "language_info": {
   "codemirror_mode": {
    "name": "ipython",
    "version": 3
   },
   "file_extension": ".py",
   "mimetype": "text/x-python",
   "name": "python",
   "nbconvert_exporter": "python",
   "pygments_lexer": "ipython3",
   "version": "3.11.5"
  }
 },
 "nbformat": 4,
 "nbformat_minor": 5
}
